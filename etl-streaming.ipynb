{
 "cells": [
  {
   "cell_type": "code",
   "execution_count": null,
   "metadata": {},
   "outputs": [],
   "source": [
    "%pip install -r requirements.txt\n",
    "\n",
    "import pandas as pd\n",
    "import numpy as np\n",
    "from langdetect import detect\n",
    "from iso639 import languages\n",
    "from lyrics_extractor import SongLyrics\n",
    "import datetime\n",
    "import calendar\n",
    "from os import listdir\n",
    "from os.path import isfile, join"
   ]
  },
  {
   "cell_type": "markdown",
   "metadata": {},
   "source": [
    "<h2>Preparar dataset</h2>\n",
    "<ol>\n",
    "    <li>Concatenar Jsons de StreamingHistory</li>\n",
    "    <li>Quitar caracteres especiales</li>\n",
    "    <li>Separar time y hour en dos columnas</li>\n",
    "    <li>Imprimir primeras rows del dataset</li>\n",
    "</ol>"
   ]
  },
  {
   "cell_type": "code",
   "execution_count": null,
   "metadata": {},
   "outputs": [],
   "source": [
    "test_num_reproducciones = 999999999\n",
    "\n",
    "raw_files = [f for f in listdir('./raw') if isfile(join('./raw', f))]\n",
    "streaming_history = pd.DataFrame()\n",
    "if len(raw_files) == 0:\n",
    "    raise Exception(\"No hay ficheros StreamingHistory_music para analizar. Asegurate de que se encuentran en el directorio /raw\")\n",
    "\n",
    "for f in raw_files:\n",
    "    if f.startswith('StreamingHistory_music'):        \n",
    "        streaming_history = pd.concat([streaming_history, pd.read_json('./raw/'+f)], ignore_index=True)[:test_num_reproducciones]\n",
    "\n",
    "\n",
    "streaming_history['trackName'] = streaming_history['trackName'].str.replace(r'\\$', '', regex=True)\n",
    "\n",
    "streaming_history[['time', 'hour']] = streaming_history['endTime'].str.split(' ', n=1, expand=True)\n",
    "\n",
    "print(f'Registros a analizar: {len(streaming_history)}')\n",
    "fechas_datos = 'Fechas de datos: ' + min(streaming_history['endTime']) + ' y ' + max(streaming_history['endTime'])\n",
    "\n",
    "streaming_history.head()\n"
   ]
  },
  {
   "cell_type": "markdown",
   "metadata": {},
   "source": [
    "<h2>Obtener idioma</h2>\n",
    "<p>Actualmente está usando langdetect pero es muy poco fiable</p>"
   ]
  },
  {
   "cell_type": "code",
   "execution_count": null,
   "metadata": {},
   "outputs": [],
   "source": [
    "def returnLenguage(txt):\n",
    "    if len(txt) > 5:\n",
    "        code = detect(txt)\n",
    "        lang_name = languages.get(part1=code).name\n",
    "        return lang_name\n",
    "    else:\n",
    "        return 'none'\n",
    "\n",
    "for index, row in streaming_history.iterrows():\n",
    "    artist = row['artistName']\n",
    "    title = row['trackName']\n",
    "    \n",
    "    streaming_history.at[index, 'lenguage'] = returnLenguage(title + ', ' + artist)\n"
   ]
  },
  {
   "cell_type": "markdown",
   "metadata": {},
   "source": [
    "<h2>Obtener día de la semana de la reproducción</h2> "
   ]
  },
  {
   "cell_type": "code",
   "execution_count": null,
   "metadata": {},
   "outputs": [],
   "source": [
    "def returnDiaSemana(txt):\n",
    "    my_date = datetime.datetime.strptime(txt, \"%Y-%m-%d\").date()\n",
    "    calendar.day_name[my_date.weekday()] \n",
    "    \n",
    "    return calendar.day_name[my_date.weekday()] \n",
    "\n",
    "for index, row in streaming_history.iterrows():\n",
    "    streaming_history.at[index, 'diaSemana'] = returnDiaSemana(row['time'])\n",
    "\n",
    "\n",
    "streaming_history.to_csv('./processed/processed_ds.csv', index=False)  "
   ]
  },
  {
   "cell_type": "markdown",
   "metadata": {},
   "source": [
    "<h2>Algunas estadisticas</h2>"
   ]
  },
  {
   "cell_type": "code",
   "execution_count": null,
   "metadata": {},
   "outputs": [],
   "source": [
    "artist_counts = streaming_history['artistName'].value_counts().reset_index()\n",
    "artist_counts.columns = ['artistName', 'n_reproducciones']\n",
    "artist_counts = artist_counts.sort_values(by='n_reproducciones', ascending=False)\n",
    "\n",
    "song_counts = streaming_history['trackName'].value_counts().reset_index()\n",
    "song_counts.columns = ['trackName', 'n_reproducciones']\n",
    "song_counts = song_counts.sort_values(by='n_reproducciones', ascending=False)\n",
    "\n",
    "unique_artists = len(streaming_history['artistName'].unique())\n",
    "unique_songs = len(streaming_history['trackName'].unique())"
   ]
  },
  {
   "cell_type": "markdown",
   "metadata": {},
   "source": [
    "<h2>Visualizaciones</h2>"
   ]
  },
  {
   "cell_type": "code",
   "execution_count": null,
   "metadata": {},
   "outputs": [],
   "source": [
    "import matplotlib.pyplot as plt\n",
    "import numpy as np"
   ]
  },
  {
   "cell_type": "code",
   "execution_count": null,
   "metadata": {},
   "outputs": [],
   "source": [
    "fig, ax = plt.subplots(figsize=(14, 6))\n",
    "\n",
    "ax.bar(artist_counts['artistName'][:10], artist_counts['n_reproducciones'][:10], color='skyblue')\n",
    "\n",
    "ax.set_ylabel('n reproducciones')\n",
    "ax.set_title('Artistas por n de Reproducciones')\n",
    "\n",
    "plt.grid(True) \n",
    "plt.savefig('./processed/reproducciones_por_artista.png', bbox_inches='tight')\n",
    "plt.show()"
   ]
  },
  {
   "cell_type": "code",
   "execution_count": null,
   "metadata": {},
   "outputs": [],
   "source": [
    "fig, ax = plt.subplots(figsize=(14, 6))\n",
    "\n",
    "ax.bar(song_counts['trackName'][:10], song_counts['n_reproducciones'][:10], color='lightgreen')\n",
    "\n",
    "ax.set_ylabel('n reproducciones')\n",
    "ax.set_title('Canciones por n de Reproducciones')\n",
    "\n",
    "plt.grid(True) \n",
    "plt.savefig('./processed/reproducciones_por_cancion.png', bbox_inches='tight')\n",
    "plt.show()"
   ]
  },
  {
   "cell_type": "code",
   "execution_count": null,
   "metadata": {},
   "outputs": [],
   "source": [
    "streaming_history['endTime'] = pd.to_datetime(streaming_history['endTime'])\n",
    "streaming_history.set_index('endTime', inplace=True)\n",
    "\n",
    "reproducciones_por_dia = streaming_history.resample('ME').size().reset_index()\n",
    "reproducciones_por_dia.columns = ['Fecha', 'Reproducciones']\n",
    "\n",
    "plt.figure(figsize=(15, 6))\n",
    "plt.plot(reproducciones_por_dia['Fecha'], reproducciones_por_dia['Reproducciones'], marker='o', linestyle='-')\n",
    "\n",
    "plt.xticks(reproducciones_por_dia['Fecha'])\n",
    "\n",
    "plt.title('Reproducciones por mes')\n",
    "\n",
    "plt.grid(True) \n",
    "plt.savefig('./processed/reproducciones_por_mes.png', bbox_inches='tight')\n",
    "plt.show()"
   ]
  },
  {
   "cell_type": "code",
   "execution_count": null,
   "metadata": {},
   "outputs": [],
   "source": [
    "song_counts_lenguage = streaming_history['lenguage'].value_counts().reset_index()\n",
    "song_counts_lenguage.columns = ['lenguage', 'n_reproducciones']\n",
    "scl = song_counts_lenguage.sort_values(by='n_reproducciones', ascending=False)\n",
    "\n",
    "fig, ax = plt.subplots(figsize=(14, 6))\n",
    "\n",
    "ax.bar(scl['lenguage'][:10], scl['n_reproducciones'][:10], color='mediumorchid')\n",
    "\n",
    "ax.set_ylabel('n reproducciones')\n",
    "ax.set_title('Idioma de canciones por n de reproducciones (idioma poco fiable)')\n",
    "\n",
    "plt.grid(True) \n",
    "plt.savefig('./processed/reproducciones_por_idioma.png', bbox_inches='tight')\n",
    "plt.show()"
   ]
  },
  {
   "cell_type": "code",
   "execution_count": null,
   "metadata": {},
   "outputs": [],
   "source": [
    "song_counts_lenguage = streaming_history['diaSemana'].value_counts().reset_index()\n",
    "song_counts_lenguage.columns = ['diaSemana', 'n_reproducciones']\n",
    "scl = song_counts_lenguage.sort_values(by='n_reproducciones', ascending=False)\n",
    "\n",
    "fig, ax = plt.subplots(figsize=(14, 6))\n",
    "\n",
    "x_ticks_labels = ['Monday','Tuesday','Wednesday','Thursday','Friday','Saturday','Sunday']\n",
    "ax.bar(x_ticks_labels, scl['n_reproducciones'], color='orange')\n",
    "\n",
    "ax.set_ylabel('n reproducciones')\n",
    "ax.set_title('Reproducciones por día de la semana')\n",
    "\n",
    "plt.grid(True) \n",
    "plt.savefig('./processed/reproducciones_por_dia_semana.png', bbox_inches='tight')\n",
    "plt.show()"
   ]
  },
  {
   "cell_type": "code",
   "execution_count": null,
   "metadata": {},
   "outputs": [],
   "source": [
    "from PIL import Image, ImageDraw, ImageFont\n",
    "\n",
    "width, height = 1080, 600\n",
    "background_color = (255, 255, 255)\n",
    "image = Image.new('RGB', (width, height), background_color)\n",
    "\n",
    "draw = ImageDraw.Draw(image)\n",
    "font = ImageFont.load_default()\n",
    "\n",
    "try:\n",
    "    font1 = ImageFont.truetype(\"arial.ttf\", 20)\n",
    "    font2 = ImageFont.truetype(\"arial.ttf\", 10)\n",
    "except IOError:\n",
    "    font1 = ImageFont.load_default()\n",
    "    font2 = ImageFont.load_default()\n",
    "\n",
    "text = f'Artistas únicos: {unique_artists}\\nCanciones únicas: {unique_songs}'\n",
    "draw.text((45, 45), text, font=font1, fill='black')\n",
    "draw.text((295, 45), fechas_datos, font=font2, fill='black')\n",
    "\n",
    "\n",
    "try:\n",
    "    additional_image1 = Image.open('./processed/reproducciones_por_artista.png')\n",
    "    additional_image2 = Image.open('./processed/reproducciones_por_cancion.png')\n",
    "\n",
    "    additional_image1 = additional_image1.resize((500, 300), resample=Image.LANCZOS)\n",
    "    additional_image2 = additional_image2.resize((500, 300), resample=Image.LANCZOS)\n",
    "\n",
    "    image.paste(additional_image1, (20, 150))\n",
    "    image.paste(additional_image2, (540, 150))\n",
    "except IOError:\n",
    "    print(\"Una o más imágenes no se pudieron cargar. Verifica las rutas.\")\n",
    "\n",
    "\n",
    "image.save('./processed/stats_visualization_with_text.png', quality=95)  \n"
   ]
  }
 ],
 "metadata": {
  "kernelspec": {
   "display_name": "Python 3",
   "language": "python",
   "name": "python3"
  },
  "language_info": {
   "codemirror_mode": {
    "name": "ipython",
    "version": 3
   },
   "file_extension": ".py",
   "mimetype": "text/x-python",
   "name": "python",
   "nbconvert_exporter": "python",
   "pygments_lexer": "ipython3",
   "version": "3.12.1"
  }
 },
 "nbformat": 4,
 "nbformat_minor": 2
}
